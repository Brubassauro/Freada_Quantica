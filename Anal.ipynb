{
 "cells": [
  {
   "cell_type": "code",
   "execution_count": 56,
   "metadata": {},
   "outputs": [],
   "source": [
    "import numpy as np\n",
    "import matplotlib.pyplot as plt\n",
    "import pandas as pd\n",
    "import scipy as sp\n",
    "import seaborn as sns\n",
    "\n",
    "from sklearn.ensemble import RandomForestClassifier\n",
    "from sklearn.metrics import classification_report, ConfusionMatrixDisplay\n",
    "from sklearn.model_selection import train_test_split\n",
    "import statsmodels.api as sm\n",
    "from sklearn import linear_model\n",
    "from sklearn.metrics import PredictionErrorDisplay\n",
    "from sklearn.metrics import r2_score, mean_squared_error, mean_absolute_error\n",
    "from sklearn.preprocessing import StandardScaler, MinMaxScaler, MaxAbsScaler\n",
    "from sklearn.tree import DecisionTreeClassifier\n",
    "from sklearn import tree\n",
    "from sklearn.ensemble import RandomForestRegressor\n",
    "from sklearn.linear_model import Lasso\n",
    "from sklearn.model_selection import GridSearchCV\n",
    "from sklearn.metrics import mean_squared_error"
   ]
  },
  {
   "cell_type": "code",
   "execution_count": 2,
   "metadata": {},
   "outputs": [
    {
     "data": {
      "text/html": [
       "<div>\n",
       "<style scoped>\n",
       "    .dataframe tbody tr th:only-of-type {\n",
       "        vertical-align: middle;\n",
       "    }\n",
       "\n",
       "    .dataframe tbody tr th {\n",
       "        vertical-align: top;\n",
       "    }\n",
       "\n",
       "    .dataframe thead th {\n",
       "        text-align: right;\n",
       "    }\n",
       "</style>\n",
       "<table border=\"1\" class=\"dataframe\">\n",
       "  <thead>\n",
       "    <tr style=\"text-align: right;\">\n",
       "      <th></th>\n",
       "      <th>ion_Z</th>\n",
       "      <th>target_name</th>\n",
       "      <th>target_Z</th>\n",
       "      <th>target_A</th>\n",
       "      <th>phase</th>\n",
       "      <th>energy</th>\n",
       "      <th>stopping_power</th>\n",
       "      <th>percentage_error</th>\n",
       "      <th>publication_year</th>\n",
       "      <th>ref_id</th>\n",
       "      <th>citation_reference</th>\n",
       "      <th>doi</th>\n",
       "    </tr>\n",
       "  </thead>\n",
       "  <tbody>\n",
       "    <tr>\n",
       "      <th>0</th>\n",
       "      <td>1</td>\n",
       "      <td>He</td>\n",
       "      <td>2</td>\n",
       "      <td>4.0026</td>\n",
       "      <td>g</td>\n",
       "      <td>66.0</td>\n",
       "      <td>7.025100</td>\n",
       "      <td>2.0</td>\n",
       "      <td>1983</td>\n",
       "      <td>Ba1983a</td>\n",
       "      <td>H.Baumgart.W.Arnold.H.Berg.E.Huttel and G.Clau...</td>\n",
       "      <td>10.1016/0167-5087(83)90093-5</td>\n",
       "    </tr>\n",
       "    <tr>\n",
       "      <th>1</th>\n",
       "      <td>1</td>\n",
       "      <td>He</td>\n",
       "      <td>2</td>\n",
       "      <td>4.0026</td>\n",
       "      <td>g</td>\n",
       "      <td>85.0</td>\n",
       "      <td>7.058300</td>\n",
       "      <td>2.0</td>\n",
       "      <td>1983</td>\n",
       "      <td>Ba1983a</td>\n",
       "      <td>H.Baumgart.W.Arnold.H.Berg.E.Huttel and G.Clau...</td>\n",
       "      <td>10.1016/0167-5087(83)90093-5</td>\n",
       "    </tr>\n",
       "    <tr>\n",
       "      <th>2</th>\n",
       "      <td>1</td>\n",
       "      <td>He</td>\n",
       "      <td>2</td>\n",
       "      <td>4.0026</td>\n",
       "      <td>g</td>\n",
       "      <td>96.0</td>\n",
       "      <td>7.065000</td>\n",
       "      <td>2.0</td>\n",
       "      <td>1983</td>\n",
       "      <td>Ba1983a</td>\n",
       "      <td>H.Baumgart.W.Arnold.H.Berg.E.Huttel and G.Clau...</td>\n",
       "      <td>10.1016/0167-5087(83)90093-5</td>\n",
       "    </tr>\n",
       "    <tr>\n",
       "      <th>3</th>\n",
       "      <td>1</td>\n",
       "      <td>He</td>\n",
       "      <td>2</td>\n",
       "      <td>4.0026</td>\n",
       "      <td>g</td>\n",
       "      <td>154.0</td>\n",
       "      <td>6.227500</td>\n",
       "      <td>2.0</td>\n",
       "      <td>1983</td>\n",
       "      <td>Ba1983a</td>\n",
       "      <td>H.Baumgart.W.Arnold.H.Berg.E.Huttel and G.Clau...</td>\n",
       "      <td>10.1016/0167-5087(83)90093-5</td>\n",
       "    </tr>\n",
       "    <tr>\n",
       "      <th>4</th>\n",
       "      <td>1</td>\n",
       "      <td>He</td>\n",
       "      <td>2</td>\n",
       "      <td>4.0026</td>\n",
       "      <td>g</td>\n",
       "      <td>200.0</td>\n",
       "      <td>5.562900</td>\n",
       "      <td>2.0</td>\n",
       "      <td>1983</td>\n",
       "      <td>Ba1983a</td>\n",
       "      <td>H.Baumgart.W.Arnold.H.Berg.E.Huttel and G.Clau...</td>\n",
       "      <td>10.1016/0167-5087(83)90093-5</td>\n",
       "    </tr>\n",
       "    <tr>\n",
       "      <th>...</th>\n",
       "      <td>...</td>\n",
       "      <td>...</td>\n",
       "      <td>...</td>\n",
       "      <td>...</td>\n",
       "      <td>...</td>\n",
       "      <td>...</td>\n",
       "      <td>...</td>\n",
       "      <td>...</td>\n",
       "      <td>...</td>\n",
       "      <td>...</td>\n",
       "      <td>...</td>\n",
       "      <td>...</td>\n",
       "    </tr>\n",
       "    <tr>\n",
       "      <th>9379</th>\n",
       "      <td>1</td>\n",
       "      <td>U</td>\n",
       "      <td>92</td>\n",
       "      <td>238.0300</td>\n",
       "      <td>s</td>\n",
       "      <td>14000.0</td>\n",
       "      <td>0.005344</td>\n",
       "      <td>0.8</td>\n",
       "      <td>1973</td>\n",
       "      <td>Sö1973</td>\n",
       "      <td>H.Sörensen and H.H.Andersen. Phys.Rev. B8.1854...</td>\n",
       "      <td>10.1103/physrevb.8.1854</td>\n",
       "    </tr>\n",
       "    <tr>\n",
       "      <th>9380</th>\n",
       "      <td>1</td>\n",
       "      <td>U</td>\n",
       "      <td>92</td>\n",
       "      <td>238.0300</td>\n",
       "      <td>s</td>\n",
       "      <td>15000.0</td>\n",
       "      <td>0.005103</td>\n",
       "      <td>0.8</td>\n",
       "      <td>1973</td>\n",
       "      <td>Sö1973</td>\n",
       "      <td>H.Sörensen and H.H.Andersen. Phys.Rev. B8.1854...</td>\n",
       "      <td>10.1103/physrevb.8.1854</td>\n",
       "    </tr>\n",
       "    <tr>\n",
       "      <th>9381</th>\n",
       "      <td>1</td>\n",
       "      <td>U</td>\n",
       "      <td>92</td>\n",
       "      <td>238.0300</td>\n",
       "      <td>s</td>\n",
       "      <td>16000.0</td>\n",
       "      <td>0.004886</td>\n",
       "      <td>0.8</td>\n",
       "      <td>1973</td>\n",
       "      <td>Sö1973</td>\n",
       "      <td>H.Sörensen and H.H.Andersen. Phys.Rev. B8.1854...</td>\n",
       "      <td>10.1103/physrevb.8.1854</td>\n",
       "    </tr>\n",
       "    <tr>\n",
       "      <th>9382</th>\n",
       "      <td>1</td>\n",
       "      <td>U</td>\n",
       "      <td>92</td>\n",
       "      <td>238.0300</td>\n",
       "      <td>s</td>\n",
       "      <td>17000.0</td>\n",
       "      <td>0.004688</td>\n",
       "      <td>0.8</td>\n",
       "      <td>1973</td>\n",
       "      <td>Sö1973</td>\n",
       "      <td>H.Sörensen and H.H.Andersen. Phys.Rev. B8.1854...</td>\n",
       "      <td>10.1103/physrevb.8.1854</td>\n",
       "    </tr>\n",
       "    <tr>\n",
       "      <th>9383</th>\n",
       "      <td>1</td>\n",
       "      <td>U</td>\n",
       "      <td>92</td>\n",
       "      <td>238.0300</td>\n",
       "      <td>s</td>\n",
       "      <td>18000.0</td>\n",
       "      <td>0.004506</td>\n",
       "      <td>0.8</td>\n",
       "      <td>1973</td>\n",
       "      <td>Sö1973</td>\n",
       "      <td>H.Sörensen and H.H.Andersen. Phys.Rev. B8.1854...</td>\n",
       "      <td>10.1103/physrevb.8.1854</td>\n",
       "    </tr>\n",
       "  </tbody>\n",
       "</table>\n",
       "<p>9384 rows × 12 columns</p>\n",
       "</div>"
      ],
      "text/plain": [
       "      ion_Z target_name  target_Z  target_A phase   energy  stopping_power  \\\n",
       "0         1          He         2    4.0026     g     66.0        7.025100   \n",
       "1         1          He         2    4.0026     g     85.0        7.058300   \n",
       "2         1          He         2    4.0026     g     96.0        7.065000   \n",
       "3         1          He         2    4.0026     g    154.0        6.227500   \n",
       "4         1          He         2    4.0026     g    200.0        5.562900   \n",
       "...     ...         ...       ...       ...   ...      ...             ...   \n",
       "9379      1           U        92  238.0300     s  14000.0        0.005344   \n",
       "9380      1           U        92  238.0300     s  15000.0        0.005103   \n",
       "9381      1           U        92  238.0300     s  16000.0        0.004886   \n",
       "9382      1           U        92  238.0300     s  17000.0        0.004688   \n",
       "9383      1           U        92  238.0300     s  18000.0        0.004506   \n",
       "\n",
       "      percentage_error  publication_year   ref_id  \\\n",
       "0                  2.0              1983  Ba1983a   \n",
       "1                  2.0              1983  Ba1983a   \n",
       "2                  2.0              1983  Ba1983a   \n",
       "3                  2.0              1983  Ba1983a   \n",
       "4                  2.0              1983  Ba1983a   \n",
       "...                ...               ...      ...   \n",
       "9379               0.8              1973   Sö1973   \n",
       "9380               0.8              1973   Sö1973   \n",
       "9381               0.8              1973   Sö1973   \n",
       "9382               0.8              1973   Sö1973   \n",
       "9383               0.8              1973   Sö1973   \n",
       "\n",
       "                                     citation_reference  \\\n",
       "0     H.Baumgart.W.Arnold.H.Berg.E.Huttel and G.Clau...   \n",
       "1     H.Baumgart.W.Arnold.H.Berg.E.Huttel and G.Clau...   \n",
       "2     H.Baumgart.W.Arnold.H.Berg.E.Huttel and G.Clau...   \n",
       "3     H.Baumgart.W.Arnold.H.Berg.E.Huttel and G.Clau...   \n",
       "4     H.Baumgart.W.Arnold.H.Berg.E.Huttel and G.Clau...   \n",
       "...                                                 ...   \n",
       "9379  H.Sörensen and H.H.Andersen. Phys.Rev. B8.1854...   \n",
       "9380  H.Sörensen and H.H.Andersen. Phys.Rev. B8.1854...   \n",
       "9381  H.Sörensen and H.H.Andersen. Phys.Rev. B8.1854...   \n",
       "9382  H.Sörensen and H.H.Andersen. Phys.Rev. B8.1854...   \n",
       "9383  H.Sörensen and H.H.Andersen. Phys.Rev. B8.1854...   \n",
       "\n",
       "                               doi  \n",
       "0     10.1016/0167-5087(83)90093-5  \n",
       "1     10.1016/0167-5087(83)90093-5  \n",
       "2     10.1016/0167-5087(83)90093-5  \n",
       "3     10.1016/0167-5087(83)90093-5  \n",
       "4     10.1016/0167-5087(83)90093-5  \n",
       "...                            ...  \n",
       "9379       10.1103/physrevb.8.1854  \n",
       "9380       10.1103/physrevb.8.1854  \n",
       "9381       10.1103/physrevb.8.1854  \n",
       "9382       10.1103/physrevb.8.1854  \n",
       "9383       10.1103/physrevb.8.1854  \n",
       "\n",
       "[9384 rows x 12 columns]"
      ]
     },
     "execution_count": 2,
     "metadata": {},
     "output_type": "execute_result"
    }
   ],
   "source": [
    "df = pd.read_csv('stop.csv')\n",
    "df"
   ]
  },
  {
   "cell_type": "code",
   "execution_count": 24,
   "metadata": {},
   "outputs": [],
   "source": [
    "df_fil = df.drop(columns=['ion_Z', 'target_name', 'percentage_error', 'publication_year', 'ref_id', 'citation_reference', 'doi'])\n",
    "\n",
    "df_fil['phase'] = df_fil['phase'].replace('g', 1).replace('s', 0)"
   ]
  },
  {
   "cell_type": "code",
   "execution_count": 25,
   "metadata": {},
   "outputs": [],
   "source": [
    "X = df_fil.drop(['stopping_power'], axis=1) # features\n",
    "y = df_fil['stopping_power'] # target\n",
    "\n",
    "X_train, X_test, y_train, y_test = train_test_split(X, y, test_size=0.4, random_state=18)"
   ]
  },
  {
   "cell_type": "code",
   "execution_count": 50,
   "metadata": {},
   "outputs": [
    {
     "data": {
      "image/png": "[encoded data removed]",
      "text/plain": [
       "<Figure size 720x720 with 2 Axes>"
      ]
     },
     "metadata": {
      "needs_background": "light"
     },
     "output_type": "display_data"
    }
   ],
   "source": [
    "plt.figure(figsize=(10, 10))\n",
    "sns.heatmap(df_fil.corr(), annot=True)\n",
    "plt.savefig('heatmap.jpeg', dpi=300)"
   ]
  },
  {
   "cell_type": "code",
   "execution_count": 35,
   "metadata": {},
   "outputs": [
    {
     "name": "stdout",
     "output_type": "stream",
     "text": [
      "\n",
      "Métricas de desempenho (conjunto de treino) - Regressão linear\n",
      "R^2 =  0.247650082706925\n",
      "MSE =  96.06431678085113\n",
      "MAE =  7.92872742434032\n",
      "\n",
      "Métricas de desempenho (conjunto de teste) - Regressão linear\n",
      "R^2 =  0.23061620526900806\n",
      "MSE =  97.60147314266563\n",
      "MAE =  8.02392319495858\n"
     ]
    },
    {
     "data": {
      "image/png": "[encoded data removed]",
      "text/plain": [
       "<Figure size 432x288 with 1 Axes>"
      ]
     },
     "metadata": {
      "needs_background": "light"
     },
     "output_type": "display_data"
    }
   ],
   "source": [
    "# REGRESSÃO LINEAR\n",
    "\n",
    "regr = linear_model.LinearRegression() # Create regressor\n",
    "regr.fit(X_train, y_train) # Train regressor\n",
    "\n",
    "y_pred_train = regr.predict(X_train) # predição para o conjunto de treino\n",
    "y_pred_test = regr.predict(X_test) # predição para o conjunto de teste\n",
    "\n",
    "# Gráfico dos coeficientes ajustados\n",
    "coef = regr.coef_\n",
    "fig = sns.barplot (x=X.columns, y=coef)\n",
    "plt.xlabel(\"Preditores\")\n",
    "plt.ylabel(\"Coeficientes ajustados\")\n",
    "plt.title(\"Coeficientes - Regressão linear\")\n",
    "print()\n",
    "     \n",
    "# Métricas de desempenho - conjunto de treino\n",
    "print('Métricas de desempenho (conjunto de treino) - Regressão linear')\n",
    "print('R^2 = ', r2_score(y_train, y_pred_train))\n",
    "print('MSE = ', mean_squared_error(y_train, y_pred_train))\n",
    "print('MAE = ', mean_absolute_error(y_train, y_pred_train))\n",
    "print()\n",
    "     \n",
    "\n",
    "# Métricas de desempenho - conjunto de teste\n",
    "print('Métricas de desempenho (conjunto de teste) - Regressão linear')\n",
    "print('R^2 = ', r2_score(y_test, y_pred_test))\n",
    "print('MSE = ', mean_squared_error(y_test, y_pred_test))\n",
    "print('MAE = ', mean_absolute_error(y_test, y_pred_test))"
   ]
  },
  {
   "cell_type": "code",
   "execution_count": 55,
   "metadata": {},
   "outputs": [
    {
     "name": "stdout",
     "output_type": "stream",
     "text": [
      "\n",
      "Métricas de desempenho (conjunto de treino) - Regressão Lasso\n",
      "R^2 =  0.24717533149275783\n",
      "MSE =  96.12493571624483\n",
      "MAE =  7.9165341437082\n",
      "\n",
      "Métricas de desempenho (conjunto de teste) - Regressão Lasso\n",
      "R^2 =  0.23111296321312647\n",
      "MSE =  97.53845607956485\n",
      "MAE =  8.003866556094644\n"
     ]
    },
    {
     "data": {
      "image/png": "[encoded data removed]",
      "text/plain": [
       "<Figure size 432x288 with 1 Axes>"
      ]
     },
     "metadata": {
      "needs_background": "light"
     },
     "output_type": "display_data"
    },
    {
     "data": {
      "image/png": "[encoded data removed]",
      "text/plain": [
       "<Figure size 432x288 with 1 Axes>"
      ]
     },
     "metadata": {
      "needs_background": "light"
     },
     "output_type": "display_data"
    }
   ],
   "source": [
    "lassoReg = Lasso(alpha=0.06, max_iter=10**7)\n",
    "lassoReg.fit(X_train,y_train)\n",
    "\n",
    "y_pred_train = lassoReg.predict(X_train) # predição para o conjunto de treino\n",
    "y_pred_test = lassoReg.predict(X_test) # predição para o conjunto de teste\n",
    "\n",
    "# Gráfico dos coeficientes ajustados\n",
    "coef = lassoReg.coef_\n",
    "fig = sns.barplot (x=X.columns, y=coef)\n",
    "plt.xlabel(\"Preditores\")\n",
    "plt.ylabel(\"Coeficientes ajustados\")\n",
    "plt.title(\"Coeficientes - Regressão Lasso\")\n",
    "print()\n",
    "     \n",
    "# Métricas de desempenho - conjunto de treino\n",
    "print('Métricas de desempenho (conjunto de treino) - Regressão Lasso')\n",
    "print('R^2 = ', r2_score(y_train, y_pred_train))\n",
    "print('MSE = ', mean_squared_error(y_train, y_pred_train))\n",
    "print('MAE = ', mean_absolute_error(y_train, y_pred_train))\n",
    "print()\n",
    "     \n",
    "\n",
    "# Métricas de desempenho - conjunto de teste\n",
    "print('Métricas de desempenho (conjunto de teste) - Regressão Lasso')\n",
    "print('R^2 = ', r2_score(y_test, y_pred_test))\n",
    "print('MSE = ', mean_squared_error(y_test, y_pred_test))\n",
    "print('MAE = ', mean_absolute_error(y_test, y_pred_test))\n",
    "\n",
    "display = PredictionErrorDisplay(y_true=y_test, y_pred=y_pred_test)\n",
    "display.plot()\n",
    "plt.show()"
   ]
  },
  {
   "cell_type": "code",
   "execution_count": 49,
   "metadata": {},
   "outputs": [
    {
     "name": "stderr",
     "output_type": "stream",
     "text": [
      "/home/bruno/.local/lib/python3.10/site-packages/sklearn/base.py:1474: UserWarning: With alpha=0, this algorithm does not converge well. You are advised to use the LinearRegression estimator\n",
      "  return fit_method(estimator, *args, **kwargs)\n",
      "/home/bruno/.local/lib/python3.10/site-packages/sklearn/linear_model/_coordinate_descent.py:678: UserWarning: Coordinate descent with no regularization may lead to unexpected results and is discouraged.\n",
      "  model = cd_fast.enet_coordinate_descent(\n",
      "/home/bruno/.local/lib/python3.10/site-packages/sklearn/linear_model/_coordinate_descent.py:678: ConvergenceWarning: Objective did not converge. You might want to increase the number of iterations, check the scale of the features or consider increasing regularisation. Duality gap: 2.704e+05, tolerance: 7.189e+01 Linear regression models with null weight for the l1 regularization term are more efficiently fitted using one of the solvers implemented in sklearn.linear_model.Ridge/RidgeCV instead.\n",
      "  model = cd_fast.enet_coordinate_descent(\n"
     ]
    },
    {
     "data": {
      "image/png": "[encoded data removed]",
      "text/plain": [
       "<Figure size 432x288 with 1 Axes>"
      ]
     },
     "metadata": {
      "needs_background": "light"
     },
     "output_type": "display_data"
    }
   ],
   "source": [
    "da = 0.01\n",
    "at = 101\n",
    "\n",
    "R_train = np.zeros(at)\n",
    "R_test = np.zeros(at)\n",
    "alpha = np.array([da*i for i in range(at)])\n",
    "\n",
    "for i in range(at):\n",
    "\n",
    "    lassoReg = Lasso(alpha=da*i, max_iter=10**7)\n",
    "    lassoReg.fit(X_train,y_train)\n",
    "    y_pred_train = lassoReg.predict(X_train) # predição para o conjunto de treino\n",
    "    y_pred_test = lassoReg.predict(X_test) # predição para o conjunto de teste\n",
    "\n",
    "    R_train[i] = r2_score(y_train, y_pred_train)\n",
    "    R_test[i] = r2_score(y_test, y_pred_test)\n",
    "\n",
    "plt.plot(alpha, R_train, label='Treino')\n",
    "plt.plot(alpha, R_test, label='Teste')\n",
    "plt.legend(fontsize=14)\n",
    "plt.xlabel('alpha', fontsize=14)\n",
    "plt.ylabel('R$^2$', fontsize=14)\n",
    "plt.savefig('Lasso-R2', dpi=300)\n",
    "plt.show()"
   ]
  },
  {
   "cell_type": "code",
   "execution_count": 54,
   "metadata": {},
   "outputs": [
    {
     "name": "stdout",
     "output_type": "stream",
     "text": [
      "0.23111296321312647 0.2476500827069248\n",
      "0.06 0.0\n"
     ]
    }
   ],
   "source": [
    "print(max(R_test), max(R_train))\n",
    "print(alpha[np.argmax(R_test)], alpha[np.argmax(R_train)])"
   ]
  },
  {
   "cell_type": "code",
   "execution_count": null,
   "metadata": {},
   "outputs": [],
   "source": [
    "clf_rf = RandomForestRegressor()\n",
    "\n",
    "param_grid = {\n",
    "    'n_estimators': [450, 500, 550],\n",
    "    'max_depth': [4, 5, 6],\n",
    "}\n",
    "\n",
    "# Realizar a busca em grade com validação cruzada\n",
    "grid_search = GridSearchCV(estimator=clf_rf, param_grid=param_grid, cv=3, n_jobs=-1, verbose=2, scoring='neg_mean_squared_error')\n",
    "grid_search.fit(X_train, y_train)\n",
    "\n",
    "# Melhor estimador\n",
    "best_rf = grid_search.best_estimator_\n",
    "\n",
    "# Treinar o modelo com os melhores hiperparâmetros\n",
    "best_rf.fit(X_train, y_train)\n",
    "\n",
    "# Fazer previsões no conjunto de treino e teste\n",
    "y_train_pred = best_rf.predict(X_train)\n",
    "y_test_pred = best_rf.predict(X_test)\n",
    "\n",
    "# Calcular o MSE para o conjunto de treino e teste\n",
    "mse_train = mean_squared_error(y_train, y_train_pred)\n",
    "mse_test = mean_squared_error(y_test, y_test_pred)\n",
    "\n",
    "print('MSE no conjunto de treino:', mse_train)\n",
    "print('MSE no conjunto de teste:', mse_test)"
   ]
  }
 ],
 "metadata": {
  "kernelspec": {
   "display_name": "Python 3",
   "language": "python",
   "name": "python3"
  },
  "language_info": {
   "codemirror_mode": {
    "name": "ipython",
    "version": 3
   },
   "file_extension": ".py",
   "mimetype": "text/x-python",
   "name": "python",
   "nbconvert_exporter": "python",
   "pygments_lexer": "ipython3",
   "version": "3.10.12"
  }
 },
 "nbformat": 4,
 "nbformat_minor": 2
}
